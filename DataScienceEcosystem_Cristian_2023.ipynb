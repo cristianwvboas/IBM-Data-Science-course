{
 "cells": [
  {
   "cell_type": "markdown",
   "id": "a4bc3e8e",
   "metadata": {},
   "source": [
    "# Data Science Tools and Ecosystem"
   ]
  },
  {
   "cell_type": "markdown",
   "id": "b215f44b",
   "metadata": {},
   "source": [
    "## In this notebook, Data Science Tools and Ecosystem are summarized"
   ]
  },
  {
   "cell_type": "markdown",
   "id": "3cafcd0e",
   "metadata": {},
   "source": [
    "**Objectives:** (takeaways from this course)\n",
    "- learn how to create a Jupyter Notebook\n",
    "- learn how to create markdowns and code lines in Jupyter Notebook\n",
    "- learn how to do simple arithmetic expressions\n",
    "- learn some popular languages used in Data Science\n",
    "- learn some of the commonly used libraries by Data Scientists"
   ]
  },
  {
   "cell_type": "markdown",
   "id": "fcf65b9b",
   "metadata": {},
   "source": [
    "## Some of the popular languages that Data Scientists use are:\n",
    "1. Python\n",
    "2. R\n",
    "3. SQL\n",
    "4. Julia"
   ]
  },
  {
   "cell_type": "markdown",
   "id": "f353446b",
   "metadata": {},
   "source": [
    "## Some of the commonly used libraries by Data Scientists inlude:\n",
    "1. Pandas\n",
    "2. Matplotlib\n",
    "3. NumPy\n",
    "4. Seaborn\n",
    "5. TensorFlow"
   ]
  },
  {
   "cell_type": "markdown",
   "id": "aef1b969",
   "metadata": {},
   "source": [
    "|Data Science Tools|\n",
    "-----------------------\n",
    "|Jupyter Notebook|\n",
    "|RStudio|\n",
    "|Apache Spark|"
   ]
  },
  {
   "cell_type": "markdown",
   "id": "6ee41958",
   "metadata": {},
   "source": [
    "### Below are few examples of evaluating arithmetic expressions on Python"
   ]
  },
  {
   "cell_type": "code",
   "execution_count": 2,
   "id": "852ff329",
   "metadata": {},
   "outputs": [
    {
     "data": {
      "text/plain": [
       "17"
      ]
     },
     "execution_count": 2,
     "metadata": {},
     "output_type": "execute_result"
    }
   ],
   "source": [
    "#This is a simple arithmetic expression to mutiply then add integers\n",
    "(3*4)+5"
   ]
  },
  {
   "cell_type": "code",
   "execution_count": 3,
   "id": "5e9900e7",
   "metadata": {},
   "outputs": [
    {
     "data": {
      "text/plain": [
       "3.3333333333333335"
      ]
     },
     "execution_count": 3,
     "metadata": {},
     "output_type": "execute_result"
    }
   ],
   "source": [
    "#This will convert 200 minutes in hours by diving by 60\n",
    "200/60"
   ]
  },
  {
   "cell_type": "markdown",
   "id": "b62f3653",
   "metadata": {},
   "source": [
    "## Author\n",
    "Cristian A. W. Villas Boas"
   ]
  },
  {
   "cell_type": "code",
   "execution_count": null,
   "id": "b1be9f82",
   "metadata": {},
   "outputs": [],
   "source": []
  }
 ],
 "metadata": {
  "kernelspec": {
   "display_name": "Python 3 (ipykernel)",
   "language": "python",
   "name": "python3"
  },
  "language_info": {
   "codemirror_mode": {
    "name": "ipython",
    "version": 3
   },
   "file_extension": ".py",
   "mimetype": "text/x-python",
   "name": "python",
   "nbconvert_exporter": "python",
   "pygments_lexer": "ipython3",
   "version": "3.11.0"
  }
 },
 "nbformat": 4,
 "nbformat_minor": 5
}
